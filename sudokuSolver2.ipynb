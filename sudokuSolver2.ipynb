{
 "cells": [
  {
   "cell_type": "code",
   "execution_count": 1,
   "id": "a33d72e7-c85d-4358-8b3e-db67e62b6aac",
   "metadata": {},
   "outputs": [],
   "source": [
    "# Computerphile (https://www.youtube.com/watch?v=G_UYXzGuqvM)"
   ]
  },
  {
   "cell_type": "code",
   "execution_count": 2,
   "id": "b7b559f5-f0b8-45f6-a344-df3cce8adfa9",
   "metadata": {},
   "outputs": [],
   "source": [
    "board = [\n",
    "        [3, 9, 0, 0, 5, 0, 0, 0, 0],\n",
    "        [0, 0, 0, 2, 0, 0, 0, 0, 5],\n",
    "        [0, 0, 0, 7, 1, 9, 0, 8, 0],\n",
    "\n",
    "        [0, 5, 0, 0, 6, 8, 0, 0, 0],\n",
    "        [2, 0, 6, 0, 0, 3, 0, 0, 0],\n",
    "        [0, 0, 0, 0, 0, 0, 0, 0, 4],\n",
    "\n",
    "        [5, 0, 0, 0, 0, 0, 0, 0, 0],\n",
    "        [6, 7, 0, 1, 0, 5, 0, 4, 0],\n",
    "        [1, 0, 9, 0, 0, 0, 2, 0, 0]\n",
    "    ]"
   ]
  },
  {
   "cell_type": "code",
   "execution_count": 3,
   "id": "fb5413a5-4f02-48db-8499-79a177c878fe",
   "metadata": {},
   "outputs": [],
   "source": [
    "import numpy as np"
   ]
  },
  {
   "cell_type": "code",
   "execution_count": 9,
   "id": "c61047ef-a281-4631-bae3-1d125f5d8897",
   "metadata": {},
   "outputs": [
    {
     "name": "stdout",
     "output_type": "stream",
     "text": [
      "[[3 9 0 0 5 0 0 0 0]\n",
      " [0 0 0 2 0 0 0 0 5]\n",
      " [0 0 0 7 1 9 0 8 0]\n",
      " [0 5 0 0 6 8 0 0 0]\n",
      " [2 0 6 0 0 3 0 0 0]\n",
      " [0 0 0 0 0 0 0 0 4]\n",
      " [5 0 0 0 0 0 0 0 0]\n",
      " [6 7 0 1 0 5 0 4 0]\n",
      " [1 0 9 0 0 0 2 0 0]]\n"
     ]
    }
   ],
   "source": [
    "print(np.matrix(board))"
   ]
  },
  {
   "cell_type": "code",
   "execution_count": 5,
   "id": "64f7a26f-4f0c-4660-9863-b7fc6c58c21a",
   "metadata": {},
   "outputs": [],
   "source": [
    "def possible(y,x,n):\n",
    "    global board\n",
    "    for i in range(0,9):\n",
    "        if board[y][i] == n:\n",
    "            return False\n",
    "    for i in range(0,9):\n",
    "        if board[i][x] == n:\n",
    "            return False\n",
    "    x0 = (x//3)*3\n",
    "    y0 = (y//3)*3\n",
    "    for i in range(0,3):\n",
    "        for j in range(0,3):\n",
    "            if board[y0+i][x0+j] == n:\n",
    "                return False\n",
    "    return True"
   ]
  },
  {
   "cell_type": "code",
   "execution_count": 6,
   "id": "d3ba52c1-b1b4-4b6a-a2d9-4d0effc0484f",
   "metadata": {},
   "outputs": [
    {
     "data": {
      "text/plain": [
       "False"
      ]
     },
     "execution_count": 6,
     "metadata": {},
     "output_type": "execute_result"
    }
   ],
   "source": [
    "possible(4,4,3)\n",
    "# (col, row, desired number)"
   ]
  },
  {
   "cell_type": "code",
   "execution_count": 7,
   "id": "ee1ee650-a2f4-4392-b1d1-9908af85d2ac",
   "metadata": {},
   "outputs": [],
   "source": [
    "def solve():\n",
    "    global board\n",
    "    for y in range(9):\n",
    "        for x in range(9):\n",
    "            if board[y][x] == 0:\n",
    "                for n in range(1,10):\n",
    "                    if possible(y,x,n):\n",
    "                        board[y][x] = n\n",
    "                        solve()\n",
    "                        board[y][x] = 0\n",
    "                return  # if not solved, not possible to solve\n",
    "    print(np.matrix(board))\n",
    "    input(\"More?\") # other possible answer "
   ]
  },
  {
   "cell_type": "code",
   "execution_count": 8,
   "id": "e86d33ff-ccb5-45e7-8dda-e36b548e9f8a",
   "metadata": {},
   "outputs": [
    {
     "name": "stdout",
     "output_type": "stream",
     "text": [
      "[[3 9 1 8 5 6 4 2 7]\n",
      " [8 6 7 2 3 4 9 1 5]\n",
      " [4 2 5 7 1 9 6 8 3]\n",
      " [7 5 4 9 6 8 1 3 2]\n",
      " [2 1 6 4 7 3 5 9 8]\n",
      " [9 3 8 5 2 1 7 6 4]\n",
      " [5 4 3 6 9 2 8 7 1]\n",
      " [6 7 2 1 8 5 3 4 9]\n",
      " [1 8 9 3 4 7 2 5 6]]\n"
     ]
    },
    {
     "name": "stdin",
     "output_type": "stream",
     "text": [
      "More? yes\n"
     ]
    },
    {
     "name": "stdout",
     "output_type": "stream",
     "text": [
      "[[3 9 7 8 5 6 4 2 1]\n",
      " [8 6 1 2 3 4 9 7 5]\n",
      " [4 2 5 7 1 9 6 8 3]\n",
      " [7 5 4 9 6 8 1 3 2]\n",
      " [2 1 6 4 7 3 5 9 8]\n",
      " [9 3 8 5 2 1 7 6 4]\n",
      " [5 4 3 6 9 2 8 1 7]\n",
      " [6 7 2 1 8 5 3 4 9]\n",
      " [1 8 9 3 4 7 2 5 6]]\n"
     ]
    },
    {
     "name": "stdin",
     "output_type": "stream",
     "text": [
      "More? yes\n"
     ]
    }
   ],
   "source": [
    "solve()"
   ]
  }
 ],
 "metadata": {
  "kernelspec": {
   "display_name": "Python 3",
   "language": "python",
   "name": "python3"
  },
  "language_info": {
   "codemirror_mode": {
    "name": "ipython",
    "version": 3
   },
   "file_extension": ".py",
   "mimetype": "text/x-python",
   "name": "python",
   "nbconvert_exporter": "python",
   "pygments_lexer": "ipython3",
   "version": "3.7.10"
  }
 },
 "nbformat": 4,
 "nbformat_minor": 5
}
